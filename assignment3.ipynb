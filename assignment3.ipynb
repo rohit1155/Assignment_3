{
 "cells": [
  {
   "cell_type": "markdown",
   "id": "90a99bb6-bbfd-4536-a3d0-42617b5ae9c2",
   "metadata": {},
   "source": [
    "Q1. Which keyword is used to create a function? Create a function to return a list of odd numbers in the\n",
    "range of 1 to 25."
   ]
  },
  {
   "cell_type": "markdown",
   "id": "7d7c6e4f-78be-4a5f-a6b8-a73a44ff89fb",
   "metadata": {},
   "source": [
    "ANS.def Keyword"
   ]
  },
  {
   "cell_type": "code",
   "execution_count": 19,
   "id": "f4ea97ed-9da5-4aa4-9130-af0a2418cdf4",
   "metadata": {},
   "outputs": [
    {
     "data": {
      "text/plain": [
       "range(0, 25)"
      ]
     },
     "execution_count": 19,
     "metadata": {},
     "output_type": "execute_result"
    }
   ],
   "source": [
    "range(25)"
   ]
  },
  {
   "cell_type": "code",
   "execution_count": 31,
   "id": "d7c5336b-243a-4d48-a410-a8a5c4153d3d",
   "metadata": {},
   "outputs": [],
   "source": [
    "def odd():\n",
    "    l1=[]\n",
    "    for i in range(25):\n",
    "        if i%2!=0:\n",
    "            l1.append(i)\n",
    "    return l1\n",
    "\n",
    "        \n",
    "    "
   ]
  },
  {
   "cell_type": "code",
   "execution_count": 32,
   "id": "ee04aeb3-a808-4391-8b91-8875ac907a34",
   "metadata": {},
   "outputs": [
    {
     "data": {
      "text/plain": [
       "[1, 3, 5, 7, 9, 11, 13, 15, 17, 19, 21, 23]"
      ]
     },
     "execution_count": 32,
     "metadata": {},
     "output_type": "execute_result"
    }
   ],
   "source": [
    "odd()"
   ]
  },
  {
   "cell_type": "markdown",
   "id": "a2481c41-1195-4460-ad2c-8780b42bee3a",
   "metadata": {},
   "source": [
    "Q2. Why *args and **kwargs is used in some functions? Create a function each for *args and **kwargs\n",
    "to demonstrate their use."
   ]
  },
  {
   "cell_type": "markdown",
   "id": "85475695-7237-467c-b209-218052f94c2c",
   "metadata": {},
   "source": [
    "ANS.*args enable us to pass the variable number of non-keyword arguments to functions, but we cannot use this to pass keyword arguments. Keyword arguments mean that they contain a key-value pair, like a Python dictionary. **kwargs allows us to pass any number of keyword arguments."
   ]
  },
  {
   "cell_type": "code",
   "execution_count": 33,
   "id": "1e1b2c38-10a1-473c-9ba3-5eda39226257",
   "metadata": {},
   "outputs": [],
   "source": [
    "def var1(*args):\n",
    "    return args\n",
    "    "
   ]
  },
  {
   "cell_type": "code",
   "execution_count": 34,
   "id": "f229a56a-2ad7-4d14-9dbb-9524ecf1cb78",
   "metadata": {},
   "outputs": [
    {
     "data": {
      "text/plain": [
       "(1, 2, 3, 4, 5, 'rohit')"
      ]
     },
     "execution_count": 34,
     "metadata": {},
     "output_type": "execute_result"
    }
   ],
   "source": [
    "var1(1,2,3,4,5,\"rohit\")"
   ]
  },
  {
   "cell_type": "code",
   "execution_count": 37,
   "id": "3fe7e7e8-005b-41aa-982f-af51f3306c17",
   "metadata": {},
   "outputs": [],
   "source": [
    "def var2(**kwargs):\n",
    "    return kwargs "
   ]
  },
  {
   "cell_type": "code",
   "execution_count": 39,
   "id": "4f5a5a8c-ef85-4a27-b4b3-4c950ae9185c",
   "metadata": {},
   "outputs": [
    {
     "data": {
      "text/plain": [
       "{'a': 1, 'b': 2, 'c': 3, 'd': 'rohit'}"
      ]
     },
     "execution_count": 39,
     "metadata": {},
     "output_type": "execute_result"
    }
   ],
   "source": [
    "var2(a=1,b=2,c=3,d=\"rohit\")"
   ]
  },
  {
   "cell_type": "markdown",
   "id": "72733c40-eed3-45ee-ad32-f1b45419fc08",
   "metadata": {},
   "source": [
    "Q3. What is an iterator in python? Name the method used to initialise the iterator object and the method\n",
    "used for iteration. Use these methods to print the first five elements of the given list [2, 4, 6, 8, 10, 12, 14,\n",
    "16, 18, 20].\n",
    "\n",
    "ANS.An iterator is an object that contains a countable number of values. An iterator is an object that can be iterated upon, meaning that you can traverse through all the values. Technically, in Python, an iterator is an object which implements the iterator protocol, which consist of the methods __iter__() and __next__() ."
   ]
  },
  {
   "cell_type": "code",
   "execution_count": 40,
   "id": "8b709465-e55c-4c86-9637-c3c8e842dcc4",
   "metadata": {},
   "outputs": [],
   "source": [
    "l=[2, 4, 6, 8, 10, 12, 14, 16, 18, 20]"
   ]
  },
  {
   "cell_type": "code",
   "execution_count": 41,
   "id": "c8a8f495-12c0-4fc4-9f9b-81d1a4c56f28",
   "metadata": {},
   "outputs": [
    {
     "data": {
      "text/plain": [
       "[2, 4, 6, 8, 10, 12, 14, 16, 18, 20]"
      ]
     },
     "execution_count": 41,
     "metadata": {},
     "output_type": "execute_result"
    }
   ],
   "source": [
    "l"
   ]
  },
  {
   "cell_type": "code",
   "execution_count": 43,
   "id": "7c087bf1-2c06-4742-8ef4-1a0e6d44efa5",
   "metadata": {},
   "outputs": [
    {
     "name": "stdout",
     "output_type": "stream",
     "text": [
      "2\n",
      "4\n",
      "6\n",
      "8\n",
      "10\n"
     ]
    }
   ],
   "source": [
    "l1=iter(l) \n",
    "for i in range(5):\n",
    "    print(next(l1))\n"
   ]
  },
  {
   "cell_type": "markdown",
   "id": "dbee04bc-45f5-417a-b325-fea764710ad8",
   "metadata": {},
   "source": [
    "Q4. What is a generator function in python? Why yield keyword is used? Give an example of a generator\n",
    "function.\n",
    "\n",
    "ANS.Generator functions behave and look just like normal functions, but with one defining characteristic. Instead of returning data, Python generator functions use the yield keyword. Generators' main benefit is that they automatically create the functions __iter__() and next ()."
   ]
  },
  {
   "cell_type": "code",
   "execution_count": 44,
   "id": "b01fcf7a-d633-4e61-87cf-f308a3684283",
   "metadata": {},
   "outputs": [],
   "source": [
    "def ex(n):\n",
    "    a=0\n",
    "    for i in range(n):\n",
    "        yield a\n",
    "        a+=i\n",
    "    "
   ]
  },
  {
   "cell_type": "code",
   "execution_count": 45,
   "id": "75b79f34-fdb5-42d2-9f39-ee39142f87b6",
   "metadata": {},
   "outputs": [
    {
     "name": "stdout",
     "output_type": "stream",
     "text": [
      "0\n",
      "0\n",
      "1\n",
      "3\n",
      "6\n",
      "10\n",
      "15\n",
      "21\n",
      "28\n",
      "36\n"
     ]
    }
   ],
   "source": [
    "for i in  ex(10):\n",
    "    print(i)"
   ]
  },
  {
   "cell_type": "markdown",
   "id": "0f1aee22-eb54-4f28-9d39-fcbef4abcc41",
   "metadata": {},
   "source": [
    "Q5. Create a generator function for prime numbers less than 1000. Use the next() method to print the\n",
    "first 20 prime numbers."
   ]
  },
  {
   "cell_type": "code",
   "execution_count": 47,
   "id": "cedcd0d9-bbfc-4023-8600-e7da10e19f76",
   "metadata": {},
   "outputs": [],
   "source": [
    "def prime():\n",
    "    a = int\n",
    "    for i in range(1000):\n",
    "        if i!=0:\n",
    "            c=0\n",
    "            for j in range(i):\n",
    "                if j>1 and i%j==0:\n",
    "                    c+=1\n",
    "            if c==0:\n",
    "                yield a\n",
    "                a=i"
   ]
  },
  {
   "cell_type": "code",
   "execution_count": 48,
   "id": "4aad38f3-6c79-4d64-80c9-400110edbd2b",
   "metadata": {},
   "outputs": [],
   "source": [
    "number=prime()"
   ]
  },
  {
   "cell_type": "code",
   "execution_count": 49,
   "id": "98408f1c-3bdb-40ca-a375-5e34e7872e59",
   "metadata": {},
   "outputs": [
    {
     "name": "stdout",
     "output_type": "stream",
     "text": [
      "<class 'int'>\n",
      "1\n",
      "2\n",
      "3\n",
      "5\n",
      "7\n",
      "11\n",
      "13\n",
      "17\n",
      "19\n",
      "23\n",
      "29\n",
      "31\n",
      "37\n",
      "41\n",
      "43\n",
      "47\n",
      "53\n",
      "59\n",
      "61\n"
     ]
    }
   ],
   "source": [
    "for i in range(20):\n",
    "    print(next(number))\n",
    "    "
   ]
  },
  {
   "cell_type": "markdown",
   "id": "42b92d64-0aa4-4f68-8c8f-980790144e81",
   "metadata": {},
   "source": [
    "Q6. Write a python program to print the first 10 Fibonacci numbers using a while loop."
   ]
  },
  {
   "cell_type": "code",
   "execution_count": 50,
   "id": "f8e545f4-d374-4624-a808-06b67f2ce3e8",
   "metadata": {},
   "outputs": [],
   "source": [
    "def test_fib1():\n",
    "    a,b = 0,1\n",
    "    while True:\n",
    "        yield a \n",
    "        a,b = b, a+b"
   ]
  },
  {
   "cell_type": "code",
   "execution_count": 51,
   "id": "a4197d33-e26d-4265-b050-8265794b2dd6",
   "metadata": {},
   "outputs": [],
   "source": [
    "fib = test_fib1()"
   ]
  },
  {
   "cell_type": "code",
   "execution_count": 52,
   "id": "e1ee7155-6512-4219-aa3f-85d8195928c9",
   "metadata": {},
   "outputs": [
    {
     "name": "stdout",
     "output_type": "stream",
     "text": [
      "0\n",
      "1\n",
      "1\n",
      "2\n",
      "3\n",
      "5\n",
      "8\n",
      "13\n",
      "21\n",
      "34\n"
     ]
    }
   ],
   "source": [
    "for i in range(10):\n",
    "    print(next(fib))"
   ]
  },
  {
   "cell_type": "markdown",
   "id": "40da7637-938b-4cbb-83a3-d263239e2ac8",
   "metadata": {},
   "source": [
    "Q7. Write a List Comprehension to iterate through the given string: ‘pwskills’.\n",
    "Expected output: ['p', 'w', 's', 'k', 'i', 'l', 'l', 's']"
   ]
  },
  {
   "cell_type": "code",
   "execution_count": 64,
   "id": "c4e9eab9-1780-4f79-a1db-1613af5854cc",
   "metadata": {},
   "outputs": [],
   "source": [
    "a='pwskills'"
   ]
  },
  {
   "cell_type": "code",
   "execution_count": 65,
   "id": "aaca9479-a9c7-402f-9b30-1d05835d64e4",
   "metadata": {},
   "outputs": [
    {
     "data": {
      "text/plain": [
       "'pwskills'"
      ]
     },
     "execution_count": 65,
     "metadata": {},
     "output_type": "execute_result"
    }
   ],
   "source": [
    "a"
   ]
  },
  {
   "cell_type": "code",
   "execution_count": 66,
   "id": "00588c5c-dc2f-4ce9-8a87-4abc6df9ddc0",
   "metadata": {},
   "outputs": [],
   "source": [
    "l1=[]\n",
    "for i in a:\n",
    "    l1.append(i)\n",
    "    \n",
    "    \n",
    "    \n",
    "    \n",
    "    "
   ]
  },
  {
   "cell_type": "code",
   "execution_count": 67,
   "id": "e83873d8-ca32-4430-88ed-13cdc16208f4",
   "metadata": {},
   "outputs": [
    {
     "data": {
      "text/plain": [
       "['p', 'w', 's', 'k', 'i', 'l', 'l', 's']"
      ]
     },
     "execution_count": 67,
     "metadata": {},
     "output_type": "execute_result"
    }
   ],
   "source": [
    "l1"
   ]
  },
  {
   "cell_type": "markdown",
   "id": "ca48a5bd-130c-47b2-93ba-861a47a55953",
   "metadata": {},
   "source": [
    "Q8. Write a python program to check whether a given number is Palindrome or not using a while loop."
   ]
  },
  {
   "cell_type": "code",
   "execution_count": 69,
   "id": "f28ec32a-4cf6-43dd-8cb2-f96416010712",
   "metadata": {},
   "outputs": [
    {
     "name": "stdin",
     "output_type": "stream",
     "text": [
      " 1\n"
     ]
    },
    {
     "name": "stdout",
     "output_type": "stream",
     "text": [
      "Pallindrome haii\n"
     ]
    }
   ],
   "source": [
    "s=input()\n",
    "l=list(s)\n",
    "l1=l[::-1]\n",
    "k=0\n",
    "i=0\n",
    "while i<len(l):\n",
    "    if(l[i]==l1[i]):\n",
    "        k+=1\n",
    "    i+=1\n",
    "if k==len(l):\n",
    "    print(\"Pallindrome haii\")\n",
    "else:\n",
    "    print(\"Nhi hai\")"
   ]
  },
  {
   "cell_type": "markdown",
   "id": "3e02f2b4-eb10-4dd5-8493-6ff19cc54c13",
   "metadata": {},
   "source": [
    "Q9. Write a code to print odd numbers from 1 to 100 using list comprehension."
   ]
  },
  {
   "cell_type": "code",
   "execution_count": 3,
   "id": "300499ab-9f05-4daa-9091-5ec9d8bf8dbc",
   "metadata": {},
   "outputs": [
    {
     "data": {
      "text/plain": [
       "[1,\n",
       " 3,\n",
       " 5,\n",
       " 7,\n",
       " 9,\n",
       " 11,\n",
       " 13,\n",
       " 15,\n",
       " 17,\n",
       " 19,\n",
       " 21,\n",
       " 23,\n",
       " 25,\n",
       " 27,\n",
       " 29,\n",
       " 31,\n",
       " 33,\n",
       " 35,\n",
       " 37,\n",
       " 39,\n",
       " 41,\n",
       " 43,\n",
       " 45,\n",
       " 47,\n",
       " 49,\n",
       " 51,\n",
       " 53,\n",
       " 55,\n",
       " 57,\n",
       " 59,\n",
       " 61,\n",
       " 63,\n",
       " 65,\n",
       " 67,\n",
       " 69,\n",
       " 71,\n",
       " 73,\n",
       " 75,\n",
       " 77,\n",
       " 79,\n",
       " 81,\n",
       " 83,\n",
       " 85,\n",
       " 87,\n",
       " 89,\n",
       " 91,\n",
       " 93,\n",
       " 95,\n",
       " 97,\n",
       " 99]"
      ]
     },
     "execution_count": 3,
     "metadata": {},
     "output_type": "execute_result"
    }
   ],
   "source": [
    "l=[]\n",
    "for i in range(100):\n",
    "    l.append(i+1)\n",
    "list(filter(lambda x:x%2!=0,l))\n",
    "    "
   ]
  },
  {
   "cell_type": "code",
   "execution_count": null,
   "id": "04209fbc-0d13-45ec-b7ca-d36a3dd5f4f2",
   "metadata": {},
   "outputs": [],
   "source": []
  }
 ],
 "metadata": {
  "kernelspec": {
   "display_name": "Python 3 (ipykernel)",
   "language": "python",
   "name": "python3"
  },
  "language_info": {
   "codemirror_mode": {
    "name": "ipython",
    "version": 3
   },
   "file_extension": ".py",
   "mimetype": "text/x-python",
   "name": "python",
   "nbconvert_exporter": "python",
   "pygments_lexer": "ipython3",
   "version": "3.10.8"
  }
 },
 "nbformat": 4,
 "nbformat_minor": 5
}
